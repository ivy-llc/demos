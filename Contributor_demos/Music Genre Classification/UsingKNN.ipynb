{
 "cells": [
  {
   "cell_type": "code",
   "execution_count": null,
   "metadata": {},
   "outputs": [],
   "source": [
    "# Read this paper https://www.cs.cmu.edu/~gtzan/work/pubs/tsap02gtzan.pdf \n",
    "# in order to understand the features of audio"
   ]
  },
  {
   "cell_type": "code",
   "execution_count": 2,
   "metadata": {},
   "outputs": [],
   "source": [
    "import ivy \n",
    "import pandas as pd"
   ]
  },
  {
   "cell_type": "code",
   "execution_count": 3,
   "metadata": {},
   "outputs": [
    {
     "data": {
      "text/plain": [
       "<module 'ivy.functional.backends.torch' from 'c:\\\\Users\\\\abhij\\\\OneDrive\\\\Desktop\\\\ivy-demos\\\\demos\\\\.venv\\\\lib\\\\site-packages\\\\ivy\\\\functional\\\\backends\\\\torch\\\\__init__.py'>"
      ]
     },
     "execution_count": 3,
     "metadata": {},
     "output_type": "execute_result"
    }
   ],
   "source": [
    "ivy.set_backend(\"torch\")"
   ]
  },
  {
   "cell_type": "code",
   "execution_count": 4,
   "metadata": {},
   "outputs": [
    {
     "data": {
      "text/html": [
       "<div>\n",
       "<style scoped>\n",
       "    .dataframe tbody tr th:only-of-type {\n",
       "        vertical-align: middle;\n",
       "    }\n",
       "\n",
       "    .dataframe tbody tr th {\n",
       "        vertical-align: top;\n",
       "    }\n",
       "\n",
       "    .dataframe thead th {\n",
       "        text-align: right;\n",
       "    }\n",
       "</style>\n",
       "<table border=\"1\" class=\"dataframe\">\n",
       "  <thead>\n",
       "    <tr style=\"text-align: right;\">\n",
       "      <th></th>\n",
       "      <th>filename</th>\n",
       "      <th>length</th>\n",
       "      <th>chroma_stft_mean</th>\n",
       "      <th>chroma_stft_var</th>\n",
       "      <th>rms_mean</th>\n",
       "      <th>rms_var</th>\n",
       "      <th>spectral_centroid_mean</th>\n",
       "      <th>spectral_centroid_var</th>\n",
       "      <th>spectral_bandwidth_mean</th>\n",
       "      <th>spectral_bandwidth_var</th>\n",
       "      <th>...</th>\n",
       "      <th>mfcc16_var</th>\n",
       "      <th>mfcc17_mean</th>\n",
       "      <th>mfcc17_var</th>\n",
       "      <th>mfcc18_mean</th>\n",
       "      <th>mfcc18_var</th>\n",
       "      <th>mfcc19_mean</th>\n",
       "      <th>mfcc19_var</th>\n",
       "      <th>mfcc20_mean</th>\n",
       "      <th>mfcc20_var</th>\n",
       "      <th>label</th>\n",
       "    </tr>\n",
       "  </thead>\n",
       "  <tbody>\n",
       "    <tr>\n",
       "      <th>0</th>\n",
       "      <td>blues.00000.wav</td>\n",
       "      <td>661794</td>\n",
       "      <td>0.350088</td>\n",
       "      <td>0.088757</td>\n",
       "      <td>0.130228</td>\n",
       "      <td>0.002827</td>\n",
       "      <td>1784.165850</td>\n",
       "      <td>129774.064525</td>\n",
       "      <td>2002.449060</td>\n",
       "      <td>85882.761315</td>\n",
       "      <td>...</td>\n",
       "      <td>52.420910</td>\n",
       "      <td>-1.690215</td>\n",
       "      <td>36.524071</td>\n",
       "      <td>-0.408979</td>\n",
       "      <td>41.597103</td>\n",
       "      <td>-2.303523</td>\n",
       "      <td>55.062923</td>\n",
       "      <td>1.221291</td>\n",
       "      <td>46.936035</td>\n",
       "      <td>blues</td>\n",
       "    </tr>\n",
       "    <tr>\n",
       "      <th>1</th>\n",
       "      <td>blues.00001.wav</td>\n",
       "      <td>661794</td>\n",
       "      <td>0.340914</td>\n",
       "      <td>0.094980</td>\n",
       "      <td>0.095948</td>\n",
       "      <td>0.002373</td>\n",
       "      <td>1530.176679</td>\n",
       "      <td>375850.073649</td>\n",
       "      <td>2039.036516</td>\n",
       "      <td>213843.755497</td>\n",
       "      <td>...</td>\n",
       "      <td>55.356403</td>\n",
       "      <td>-0.731125</td>\n",
       "      <td>60.314529</td>\n",
       "      <td>0.295073</td>\n",
       "      <td>48.120598</td>\n",
       "      <td>-0.283518</td>\n",
       "      <td>51.106190</td>\n",
       "      <td>0.531217</td>\n",
       "      <td>45.786282</td>\n",
       "      <td>blues</td>\n",
       "    </tr>\n",
       "    <tr>\n",
       "      <th>2</th>\n",
       "      <td>blues.00002.wav</td>\n",
       "      <td>661794</td>\n",
       "      <td>0.363637</td>\n",
       "      <td>0.085275</td>\n",
       "      <td>0.175570</td>\n",
       "      <td>0.002746</td>\n",
       "      <td>1552.811865</td>\n",
       "      <td>156467.643368</td>\n",
       "      <td>1747.702312</td>\n",
       "      <td>76254.192257</td>\n",
       "      <td>...</td>\n",
       "      <td>40.598766</td>\n",
       "      <td>-7.729093</td>\n",
       "      <td>47.639427</td>\n",
       "      <td>-1.816407</td>\n",
       "      <td>52.382141</td>\n",
       "      <td>-3.439720</td>\n",
       "      <td>46.639660</td>\n",
       "      <td>-2.231258</td>\n",
       "      <td>30.573025</td>\n",
       "      <td>blues</td>\n",
       "    </tr>\n",
       "    <tr>\n",
       "      <th>3</th>\n",
       "      <td>blues.00003.wav</td>\n",
       "      <td>661794</td>\n",
       "      <td>0.404785</td>\n",
       "      <td>0.093999</td>\n",
       "      <td>0.141093</td>\n",
       "      <td>0.006346</td>\n",
       "      <td>1070.106615</td>\n",
       "      <td>184355.942417</td>\n",
       "      <td>1596.412872</td>\n",
       "      <td>166441.494769</td>\n",
       "      <td>...</td>\n",
       "      <td>44.427753</td>\n",
       "      <td>-3.319597</td>\n",
       "      <td>50.206673</td>\n",
       "      <td>0.636965</td>\n",
       "      <td>37.319130</td>\n",
       "      <td>-0.619121</td>\n",
       "      <td>37.259739</td>\n",
       "      <td>-3.407448</td>\n",
       "      <td>31.949339</td>\n",
       "      <td>blues</td>\n",
       "    </tr>\n",
       "    <tr>\n",
       "      <th>4</th>\n",
       "      <td>blues.00004.wav</td>\n",
       "      <td>661794</td>\n",
       "      <td>0.308526</td>\n",
       "      <td>0.087841</td>\n",
       "      <td>0.091529</td>\n",
       "      <td>0.002303</td>\n",
       "      <td>1835.004266</td>\n",
       "      <td>343399.939274</td>\n",
       "      <td>1748.172116</td>\n",
       "      <td>88445.209036</td>\n",
       "      <td>...</td>\n",
       "      <td>86.099236</td>\n",
       "      <td>-5.454034</td>\n",
       "      <td>75.269707</td>\n",
       "      <td>-0.916874</td>\n",
       "      <td>53.613918</td>\n",
       "      <td>-4.404827</td>\n",
       "      <td>62.910812</td>\n",
       "      <td>-11.703234</td>\n",
       "      <td>55.195160</td>\n",
       "      <td>blues</td>\n",
       "    </tr>\n",
       "  </tbody>\n",
       "</table>\n",
       "<p>5 rows × 60 columns</p>\n",
       "</div>"
      ],
      "text/plain": [
       "          filename  length  chroma_stft_mean  chroma_stft_var  rms_mean  \\\n",
       "0  blues.00000.wav  661794          0.350088         0.088757  0.130228   \n",
       "1  blues.00001.wav  661794          0.340914         0.094980  0.095948   \n",
       "2  blues.00002.wav  661794          0.363637         0.085275  0.175570   \n",
       "3  blues.00003.wav  661794          0.404785         0.093999  0.141093   \n",
       "4  blues.00004.wav  661794          0.308526         0.087841  0.091529   \n",
       "\n",
       "    rms_var  spectral_centroid_mean  spectral_centroid_var  \\\n",
       "0  0.002827             1784.165850          129774.064525   \n",
       "1  0.002373             1530.176679          375850.073649   \n",
       "2  0.002746             1552.811865          156467.643368   \n",
       "3  0.006346             1070.106615          184355.942417   \n",
       "4  0.002303             1835.004266          343399.939274   \n",
       "\n",
       "   spectral_bandwidth_mean  spectral_bandwidth_var  ...  mfcc16_var  \\\n",
       "0              2002.449060            85882.761315  ...   52.420910   \n",
       "1              2039.036516           213843.755497  ...   55.356403   \n",
       "2              1747.702312            76254.192257  ...   40.598766   \n",
       "3              1596.412872           166441.494769  ...   44.427753   \n",
       "4              1748.172116            88445.209036  ...   86.099236   \n",
       "\n",
       "   mfcc17_mean  mfcc17_var  mfcc18_mean  mfcc18_var  mfcc19_mean  mfcc19_var  \\\n",
       "0    -1.690215   36.524071    -0.408979   41.597103    -2.303523   55.062923   \n",
       "1    -0.731125   60.314529     0.295073   48.120598    -0.283518   51.106190   \n",
       "2    -7.729093   47.639427    -1.816407   52.382141    -3.439720   46.639660   \n",
       "3    -3.319597   50.206673     0.636965   37.319130    -0.619121   37.259739   \n",
       "4    -5.454034   75.269707    -0.916874   53.613918    -4.404827   62.910812   \n",
       "\n",
       "   mfcc20_mean  mfcc20_var  label  \n",
       "0     1.221291   46.936035  blues  \n",
       "1     0.531217   45.786282  blues  \n",
       "2    -2.231258   30.573025  blues  \n",
       "3    -3.407448   31.949339  blues  \n",
       "4   -11.703234   55.195160  blues  \n",
       "\n",
       "[5 rows x 60 columns]"
      ]
     },
     "execution_count": 4,
     "metadata": {},
     "output_type": "execute_result"
    }
   ],
   "source": [
    "# the file features_30_sec.csv already contains the audio features which were extracted from audio file\n",
    "data = pd.read_csv(\"Data/features_30_sec.csv\")\n",
    "data.head()"
   ]
  },
  {
   "cell_type": "code",
   "execution_count": 10,
   "metadata": {},
   "outputs": [
    {
     "data": {
      "text/plain": [
       "filename                   blues.00000.wav\n",
       "length                              661794\n",
       "chroma_stft_mean                  0.350088\n",
       "chroma_stft_var                   0.088757\n",
       "rms_mean                          0.130228\n",
       "rms_var                           0.002827\n",
       "spectral_centroid_mean          1784.16585\n",
       "spectral_centroid_var        129774.064525\n",
       "spectral_bandwidth_mean         2002.44906\n",
       "spectral_bandwidth_var        85882.761315\n",
       "rolloff_mean                   3805.839606\n",
       "rolloff_var                  901505.425533\n",
       "zero_crossing_rate_mean           0.083045\n",
       "zero_crossing_rate_var            0.000767\n",
       "harmony_mean                     -0.000045\n",
       "harmony_var                       0.008172\n",
       "perceptr_mean                     0.000008\n",
       "perceptr_var                      0.005698\n",
       "tempo                           123.046875\n",
       "mfcc1_mean                     -113.570648\n",
       "mfcc1_var                       2564.20752\n",
       "mfcc2_mean                      121.571793\n",
       "mfcc2_var                       295.913818\n",
       "mfcc3_mean                      -19.168142\n",
       "mfcc3_var                       235.574432\n",
       "mfcc4_mean                       42.366421\n",
       "mfcc4_var                       151.106873\n",
       "mfcc5_mean                       -6.364664\n",
       "mfcc5_var                       167.934799\n",
       "mfcc6_mean                       18.623499\n",
       "mfcc6_var                         89.18084\n",
       "mfcc7_mean                      -13.704891\n",
       "mfcc7_var                        67.660492\n",
       "mfcc8_mean                        15.34315\n",
       "mfcc8_var                        68.932579\n",
       "mfcc9_mean                       -12.27411\n",
       "mfcc9_var                        82.204201\n",
       "mfcc10_mean                      10.976572\n",
       "mfcc10_var                       63.386311\n",
       "mfcc11_mean                      -8.326573\n",
       "mfcc11_var                       61.773094\n",
       "mfcc12_mean                       8.803792\n",
       "mfcc12_var                       51.244125\n",
       "mfcc13_mean                        -3.6723\n",
       "mfcc13_var                       41.217415\n",
       "mfcc14_mean                       5.747995\n",
       "mfcc14_var                       40.554478\n",
       "mfcc15_mean                      -5.162882\n",
       "mfcc15_var                       49.775421\n",
       "mfcc16_mean                        0.75274\n",
       "mfcc16_var                        52.42091\n",
       "mfcc17_mean                      -1.690215\n",
       "mfcc17_var                       36.524071\n",
       "mfcc18_mean                      -0.408979\n",
       "mfcc18_var                       41.597103\n",
       "mfcc19_mean                      -2.303523\n",
       "mfcc19_var                       55.062923\n",
       "mfcc20_mean                       1.221291\n",
       "mfcc20_var                       46.936035\n",
       "label                                blues\n",
       "Name: 0, dtype: object"
      ]
     },
     "execution_count": 10,
     "metadata": {},
     "output_type": "execute_result"
    }
   ],
   "source": [
    "# First before diving into modelling lets look at how we got the values for this dataset\n",
    "# feature extraction for audio \n",
    "\n",
    "# we need librosa library for audio feature extraction\n",
    "data.iloc[0]"
   ]
  },
  {
   "cell_type": "code",
   "execution_count": 11,
   "metadata": {},
   "outputs": [],
   "source": [
    "# %%capture\n",
    "# !pip install librosa"
   ]
  },
  {
   "cell_type": "code",
   "execution_count": 29,
   "metadata": {},
   "outputs": [],
   "source": [
    "import librosa\n",
    "\n",
    "audio_file_path = \"Data/genres_original/blues/blues.00000.wav\"\n",
    "y,sample_rate = librosa.load(audio_file_path)"
   ]
  },
  {
   "cell_type": "code",
   "execution_count": 30,
   "metadata": {},
   "outputs": [
    {
     "name": "stdout",
     "output_type": "stream",
     "text": [
      "[ 0.00732422  0.01660156  0.00762939 ... -0.05560303 -0.06106567\n",
      " -0.06417847] 22050\n"
     ]
    }
   ],
   "source": [
    "# y - array representation of a audio file \n",
    "# sample_rate \n",
    "print(y,sample_rate)"
   ]
  },
  {
   "cell_type": "code",
   "execution_count": 31,
   "metadata": {},
   "outputs": [
    {
     "data": {
      "text/plain": [
       "661794"
      ]
     },
     "execution_count": 31,
     "metadata": {},
     "output_type": "execute_result"
    }
   ],
   "source": [
    "# length feature corresponds to the length of this array\n",
    "length = len(y)\n",
    "length"
   ]
  },
  {
   "cell_type": "code",
   "execution_count": 32,
   "metadata": {},
   "outputs": [],
   "source": [
    "# Audio is a continuous signal. To turn it into a digital form, \n",
    "# we sample it by picking specific points in the waveform to capture their amplitude values. \n",
    "# The sampling rate determines how many of these points we pick per second.\n",
    "# By default librosa uses a frequency of 22050Hz"
   ]
  },
  {
   "cell_type": "code",
   "execution_count": 36,
   "metadata": {},
   "outputs": [
    {
     "name": "stdout",
     "output_type": "stream",
     "text": [
      "0.3501285 0.08877166\n",
      "0.13018432 0.00282838\n",
      "1784.1226412753101 129745.48441929805\n",
      "2002.4124072733878 85834.41040579003\n",
      "3805.7230301080335 901252.916706492\n"
     ]
    }
   ],
   "source": [
    "# chroma_stft\n",
    "chroma_stft = librosa.feature.chroma_stft(y=y, sr=sample_rate)\n",
    "chroma_stft_mean,chroma_stft_var = chroma_stft.mean(),chroma_stft.var()\n",
    "print(chroma_stft_mean,chroma_stft_var)\n",
    "\n",
    "# rms\n",
    "rms = librosa.feature.rms(y=y)\n",
    "rms_mean,rms_var = rms.mean(),rms.var()\n",
    "print(rms_mean,rms_var)\n",
    "\n",
    "# spectral centroid \n",
    "spectral_centroid = librosa.feature.spectral_centroid(y=y, sr=sample_rate)\n",
    "spectral_centroid_mean,spectral_centroid_var = spectral_centroid.mean(),spectral_centroid.var()\n",
    "print(spectral_centroid_mean,spectral_centroid_var)\n",
    "\n",
    "# spectral bandwidth \n",
    "spectral_bandwidth = librosa.feature.spectral_bandwidth(y=y, sr=sample_rate)\n",
    "spectral_bandwidth_mean,spectral_bandwidth_var = spectral_bandwidth.mean(),spectral_bandwidth.var()\n",
    "print(spectral_bandwidth_mean,spectral_bandwidth_var)\n",
    "\n",
    "# spectral rolloff \n",
    "spectral_rolloff = librosa.feature.spectral_rolloff(y=y, sr=sample_rate)\n",
    "spectral_rolloff_mean,spectral_rolloff_var = spectral_rolloff.mean(),spectral_rolloff.var()\n",
    "print(spectral_rolloff_mean,spectral_rolloff_var)\n"
   ]
  },
  {
   "cell_type": "code",
   "execution_count": 40,
   "metadata": {},
   "outputs": [
    {
     "name": "stdout",
     "output_type": "stream",
     "text": [
      "0.08304482066898686 0.0007669456545940504\n",
      "-4.906634e-05 0.008172463\n"
     ]
    }
   ],
   "source": [
    "# zero crossing rate \n",
    "\n",
    "zero_crossing_rate = librosa.feature.zero_crossing_rate(y=y)\n",
    "zero_crossing_rate_mean,zero_crossing_rate_var = zero_crossing_rate.mean(),zero_crossing_rate.var()\n",
    "print(zero_crossing_rate_mean,zero_crossing_rate_var)\n",
    "\n",
    "# harmony \n",
    "harmony = librosa.effects.harmonic(y=y)\n",
    "harmony_mean,harmony_var = harmony.mean(),harmony.var()\n",
    "print(harmony_mean,harmony_var)\n"
   ]
  },
  {
   "cell_type": "code",
   "execution_count": null,
   "metadata": {},
   "outputs": [],
   "source": [
    "# Extract harmonic elements from an audio time-series. \n",
    "harmony = librosa.effects.harmonic(y=y)\n",
    "harmony_mean,harmony_var = harmony.mean(),harmony.var()\n",
    "print(harmony_mean,harmony_var)"
   ]
  },
  {
   "cell_type": "code",
   "execution_count": 44,
   "metadata": {},
   "outputs": [
    {
     "name": "stdout",
     "output_type": "stream",
     "text": [
      "123.046875\n"
     ]
    }
   ],
   "source": [
    "# rhythm features\n",
    "tempo = librosa.feature.tempo(y=y)\n",
    "tempo_mean = tempo.mean()\n",
    "print(tempo_mean)\n"
   ]
  },
  {
   "cell_type": "code",
   "execution_count": 45,
   "metadata": {},
   "outputs": [
    {
     "data": {
      "text/plain": [
       "(20, 1293)"
      ]
     },
     "execution_count": 45,
     "metadata": {},
     "output_type": "execute_result"
    }
   ],
   "source": [
    "# mfcc has 20 features in it as described in dataframe \n",
    "mfcc = librosa.feature.mfcc(y=y, sr=sample_rate)\n",
    "mfcc.shape"
   ]
  },
  {
   "cell_type": "code",
   "execution_count": 56,
   "metadata": {},
   "outputs": [
    {
     "name": "stdout",
     "output_type": "stream",
     "text": [
      "-113.59882 2569.3694\n"
     ]
    }
   ],
   "source": [
    "mfcc1_mean,mfcc1_var = mfcc[0].mean(),mfcc[0].var()\n",
    "print(mfcc1_mean,mfcc1_var)"
   ]
  },
  {
   "cell_type": "code",
   "execution_count": 29,
   "metadata": {},
   "outputs": [
    {
     "data": {
      "text/plain": [
       "Index(['filename', 'length', 'chroma_stft_mean', 'chroma_stft_var', 'rms_mean',\n",
       "       'rms_var', 'spectral_centroid_mean', 'spectral_centroid_var',\n",
       "       'spectral_bandwidth_mean', 'spectral_bandwidth_var', 'rolloff_mean',\n",
       "       'rolloff_var', 'zero_crossing_rate_mean', 'zero_crossing_rate_var',\n",
       "       'harmony_mean', 'harmony_var', 'perceptr_mean', 'perceptr_var', 'tempo',\n",
       "       'mfcc1_mean', 'mfcc1_var', 'mfcc2_mean', 'mfcc2_var', 'mfcc3_mean',\n",
       "       'mfcc3_var', 'mfcc4_mean', 'mfcc4_var', 'mfcc5_mean', 'mfcc5_var',\n",
       "       'mfcc6_mean', 'mfcc6_var', 'mfcc7_mean', 'mfcc7_var', 'mfcc8_mean',\n",
       "       'mfcc8_var', 'mfcc9_mean', 'mfcc9_var', 'mfcc10_mean', 'mfcc10_var',\n",
       "       'mfcc11_mean', 'mfcc11_var', 'mfcc12_mean', 'mfcc12_var', 'mfcc13_mean',\n",
       "       'mfcc13_var', 'mfcc14_mean', 'mfcc14_var', 'mfcc15_mean', 'mfcc15_var',\n",
       "       'mfcc16_mean', 'mfcc16_var', 'mfcc17_mean', 'mfcc17_var', 'mfcc18_mean',\n",
       "       'mfcc18_var', 'mfcc19_mean', 'mfcc19_var', 'mfcc20_mean', 'mfcc20_var',\n",
       "       'label'],\n",
       "      dtype='object')"
      ]
     },
     "execution_count": 29,
     "metadata": {},
     "output_type": "execute_result"
    }
   ],
   "source": [
    "data.columns"
   ]
  },
  {
   "cell_type": "code",
   "execution_count": 30,
   "metadata": {},
   "outputs": [
    {
     "data": {
      "text/plain": [
       "filename                   0\n",
       "length                     0\n",
       "chroma_stft_mean           0\n",
       "chroma_stft_var            0\n",
       "rms_mean                   0\n",
       "rms_var                    0\n",
       "spectral_centroid_mean     0\n",
       "spectral_centroid_var      0\n",
       "spectral_bandwidth_mean    0\n",
       "spectral_bandwidth_var     0\n",
       "rolloff_mean               0\n",
       "rolloff_var                0\n",
       "zero_crossing_rate_mean    0\n",
       "zero_crossing_rate_var     0\n",
       "harmony_mean               0\n",
       "harmony_var                0\n",
       "perceptr_mean              0\n",
       "perceptr_var               0\n",
       "tempo                      0\n",
       "mfcc1_mean                 0\n",
       "mfcc1_var                  0\n",
       "mfcc2_mean                 0\n",
       "mfcc2_var                  0\n",
       "mfcc3_mean                 0\n",
       "mfcc3_var                  0\n",
       "mfcc4_mean                 0\n",
       "mfcc4_var                  0\n",
       "mfcc5_mean                 0\n",
       "mfcc5_var                  0\n",
       "mfcc6_mean                 0\n",
       "mfcc6_var                  0\n",
       "mfcc7_mean                 0\n",
       "mfcc7_var                  0\n",
       "mfcc8_mean                 0\n",
       "mfcc8_var                  0\n",
       "mfcc9_mean                 0\n",
       "mfcc9_var                  0\n",
       "mfcc10_mean                0\n",
       "mfcc10_var                 0\n",
       "mfcc11_mean                0\n",
       "mfcc11_var                 0\n",
       "mfcc12_mean                0\n",
       "mfcc12_var                 0\n",
       "mfcc13_mean                0\n",
       "mfcc13_var                 0\n",
       "mfcc14_mean                0\n",
       "mfcc14_var                 0\n",
       "mfcc15_mean                0\n",
       "mfcc15_var                 0\n",
       "mfcc16_mean                0\n",
       "mfcc16_var                 0\n",
       "mfcc17_mean                0\n",
       "mfcc17_var                 0\n",
       "mfcc18_mean                0\n",
       "mfcc18_var                 0\n",
       "mfcc19_mean                0\n",
       "mfcc19_var                 0\n",
       "mfcc20_mean                0\n",
       "mfcc20_var                 0\n",
       "label                      0\n",
       "dtype: int64"
      ]
     },
     "execution_count": 30,
     "metadata": {},
     "output_type": "execute_result"
    }
   ],
   "source": [
    "data.isna().sum()"
   ]
  },
  {
   "cell_type": "code",
   "execution_count": 31,
   "metadata": {},
   "outputs": [
    {
     "data": {
      "text/plain": [
       "length\n",
       "661794    640\n",
       "661504    295\n",
       "675808     10\n",
       "661408      5\n",
       "661676      4\n",
       "661760      4\n",
       "669680      3\n",
       "667920      3\n",
       "669240      3\n",
       "665280      3\n",
       "663300      2\n",
       "668140      2\n",
       "661344      2\n",
       "663520      2\n",
       "666820      2\n",
       "661500      1\n",
       "667480      1\n",
       "660000      1\n",
       "661980      1\n",
       "672100      1\n",
       "662112      1\n",
       "665940      1\n",
       "670340      1\n",
       "667700      1\n",
       "666160      1\n",
       "664400      1\n",
       "665060      1\n",
       "664180      1\n",
       "663740      1\n",
       "661100      1\n",
       "668800      1\n",
       "663080      1\n",
       "672282      1\n",
       "670120      1\n",
       "669460      1\n",
       "Name: count, dtype: int64"
      ]
     },
     "execution_count": 31,
     "metadata": {},
     "output_type": "execute_result"
    }
   ],
   "source": [
    "data[\"length\"].value_counts()"
   ]
  },
  {
   "cell_type": "code",
   "execution_count": 32,
   "metadata": {},
   "outputs": [],
   "source": [
    "data.drop([\"length\",\"filename\"],axis=1,inplace=True)"
   ]
  },
  {
   "cell_type": "code",
   "execution_count": 33,
   "metadata": {},
   "outputs": [],
   "source": [
    "y = data['label']\n",
    "data.drop(['label'],axis=1,inplace=True)\n",
    "X = data"
   ]
  },
  {
   "cell_type": "code",
   "execution_count": 34,
   "metadata": {},
   "outputs": [],
   "source": [
    "# convert names to numbers 0-9\n",
    "label_mapping_to_numbers = {\"blues\":0,\"classical\":1,\"country\":2,\"disco\":3,\"hiphop\":4,\"jazz\":5,\"metal\":6,\"pop\":7,\"reggae\":8,\"rock\":9}\n",
    "for i in range(0,len(y)):\n",
    "    y[i] = label_mapping_to_numbers[y[i]]"
   ]
  },
  {
   "cell_type": "code",
   "execution_count": 35,
   "metadata": {},
   "outputs": [],
   "source": [
    "from sklearn.model_selection import train_test_split\n",
    "\n",
    "X_train,X_test,y_train,y_test = train_test_split(X,y,test_size=0.20,random_state=42,stratify=y)"
   ]
  },
  {
   "cell_type": "code",
   "execution_count": 36,
   "metadata": {},
   "outputs": [],
   "source": [
    "from sklearn.preprocessing import MinMaxScaler\n",
    "scaler = MinMaxScaler(feature_range=(-1, 1))\n",
    "X_train = scaler.fit_transform(X_train)\n",
    "X_test = scaler.transform(X_test)"
   ]
  },
  {
   "cell_type": "code",
   "execution_count": 37,
   "metadata": {},
   "outputs": [],
   "source": [
    "import numpy as np\n",
    "X_train,X_test,y_train,y_test = ivy.array(np.array(X_train)),ivy.array(np.array(X_test)),ivy.array(np.array(y_train).astype(int)),ivy.array(np.array(y_test).astype(int))"
   ]
  },
  {
   "cell_type": "code",
   "execution_count": 38,
   "metadata": {},
   "outputs": [
    {
     "data": {
      "text/plain": [
       "ivy.Shape(800, 57)"
      ]
     },
     "execution_count": 38,
     "metadata": {},
     "output_type": "execute_result"
    }
   ],
   "source": [
    "X_train.shape"
   ]
  },
  {
   "cell_type": "code",
   "execution_count": 41,
   "metadata": {},
   "outputs": [],
   "source": [
    "# implement knn in ivy first in jax\n",
    "def minimum_distance_metric(feature1,feature2):\n",
    "  return ivy.mean(ivy.abs(feature1 - feature2))\n",
    "\n",
    "def knn(n,X_test):\n",
    "    predictions = ivy.empty(X_test.shape[0])\n",
    "    for i,features1 in enumerate(X_test):\n",
    "      all_distances = ivy.empty(X_train.shape[0])\n",
    "      for j,features2 in enumerate(X_train):\n",
    "        distance = minimum_distance_metric(features1, features2)\n",
    "        all_distances[j] = distance\n",
    "      neighbors = ivy.argsort(all_distances)[:n]\n",
    "      polling_target = ivy.zeros(10)\n",
    "      for neighbor in neighbors:\n",
    "        target = int(y_train[neighbor])\n",
    "        polling_target[target] += 1\n",
    "      pred_target = ivy.argsort(-polling_target)[0]\n",
    "      predictions[i] = pred_target\n",
    "      if i%20 == 0:\n",
    "        print(f\"Done with {i}\")\n",
    "    return predictions"
   ]
  },
  {
   "cell_type": "code",
   "execution_count": 42,
   "metadata": {},
   "outputs": [
    {
     "name": "stdout",
     "output_type": "stream",
     "text": [
      "Done with 0\n",
      "Done with 20\n",
      "Done with 40\n",
      "Done with 60\n",
      "Done with 80\n",
      "Done with 100\n",
      "Done with 120\n",
      "Done with 140\n",
      "Done with 160\n",
      "Done with 180\n"
     ]
    }
   ],
   "source": [
    "y_pred = knn(3,X_test)"
   ]
  },
  {
   "cell_type": "code",
   "execution_count": 43,
   "metadata": {},
   "outputs": [
    {
     "name": "stdout",
     "output_type": "stream",
     "text": [
      "0.705               precision    recall  f1-score   support\n",
      "\n",
      "         0.0       0.80      0.80      0.80        20\n",
      "         1.0       1.00      0.83      0.91        24\n",
      "         2.0       0.90      0.53      0.67        34\n",
      "         3.0       0.40      0.44      0.42        18\n",
      "         4.0       0.75      0.71      0.73        21\n",
      "         5.0       0.75      1.00      0.86        15\n",
      "         6.0       0.65      0.76      0.70        17\n",
      "         7.0       0.80      0.84      0.82        19\n",
      "         8.0       0.40      0.62      0.48        13\n",
      "         9.0       0.60      0.63      0.62        19\n",
      "\n",
      "    accuracy                           0.70       200\n",
      "   macro avg       0.71      0.72      0.70       200\n",
      "weighted avg       0.74      0.70      0.71       200\n",
      "\n"
     ]
    }
   ],
   "source": [
    "from sklearn.metrics import accuracy_score,classification_report\n",
    "\n",
    "print(accuracy_score(y_pred,y_test),classification_report(y_pred,y_test))"
   ]
  }
 ],
 "metadata": {
  "kernelspec": {
   "display_name": ".venv",
   "language": "python",
   "name": "python3"
  },
  "language_info": {
   "codemirror_mode": {
    "name": "ipython",
    "version": 3
   },
   "file_extension": ".py",
   "mimetype": "text/x-python",
   "name": "python",
   "nbconvert_exporter": "python",
   "pygments_lexer": "ipython3",
   "version": "3.9.13"
  }
 },
 "nbformat": 4,
 "nbformat_minor": 2
}
